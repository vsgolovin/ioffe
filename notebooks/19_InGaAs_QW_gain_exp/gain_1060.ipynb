{
 "cells": [
  {
   "cell_type": "markdown",
   "metadata": {},
   "source": [
    "## Расчёт зависимости усиления от концентрации носителей в яме для InGaAs КЯ (~1060 нм)"
   ]
  },
  {
   "cell_type": "code",
   "execution_count": 1,
   "metadata": {},
   "outputs": [],
   "source": [
    "%matplotlib inline\n",
    "\n",
    "import numpy as np\n",
    "import matplotlib.pyplot as plt\n",
    "from scipy import optimize"
   ]
  },
  {
   "cell_type": "code",
   "execution_count": 2,
   "metadata": {},
   "outputs": [],
   "source": [
    "class LD(object):\n",
    "    def __init__(self, name, length, Ith, alpha_i, Gamma, eta_inj, A, B, C):\n",
    "        self.name = name\n",
    "        self.length = length\n",
    "        self.Ith = Ith\n",
    "        self.Jth = Ith/(self.length*100e-4)\n",
    "        self.alpha_m = 1/(2*length)*np.log(1/0.09)\n",
    "        self.alpha_i = alpha_i\n",
    "        self.Gamma = Gamma\n",
    "        self.d_qw = 90e-8\n",
    "        self.gain = (self.alpha_i+self.alpha_m)/Gamma\n",
    "        self.eta_inj = eta_inj\n",
    "        self.A = A\n",
    "        self.B = B\n",
    "        self.C = C\n",
    "\n",
    "        def carrier_RE(N, self):\n",
    "            q = 1.6e-19\n",
    "            return self.eta_inj*self.Jth/(q*self.d_qw) - self.A*N - self.B*N**2 - self.C*N**3\n",
    "\n",
    "        self.Nth = float(optimize.fsolve(carrier_RE, 3e18, args=(self,)))"
   ]
  },
  {
   "cell_type": "code",
   "execution_count": 3,
   "metadata": {},
   "outputs": [
    {
     "data": {
      "text/plain": [
       "1530.5608366713159"
      ]
     },
     "execution_count": 3,
     "metadata": {},
     "output_type": "execute_result"
    }
   ],
   "source": [
    "ld = LD(name='51-NL1265-1',\n",
    "       length=1020e-4,\n",
    "       Ith=0.225,\n",
    "       alpha_i=0.9,\n",
    "       Gamma=0.83e-2,\n",
    "       eta_inj=1.0,\n",
    "       A=2e8, B=1e-10, C=5e-30)\n",
    "ld.gain"
   ]
  },
  {
   "cell_type": "code",
   "execution_count": 7,
   "metadata": {},
   "outputs": [
    {
     "data": {
      "text/plain": [
       "Text(0.5, 1.0, '$g_0$ = 2142.0, $N_{tr}$ = 1.77e+18')"
      ]
     },
     "execution_count": 7,
     "metadata": {},
     "output_type": "execute_result"
    },
    {
     "data": {
      "image/png": "[encoded data removed]",
      "text/plain": [
       "<Figure size 432x288 with 1 Axes>"
      ]
     },
     "metadata": {
      "needs_background": "light"
     },
     "output_type": "display_data"
    }
   ],
   "source": [
    "A = 0\n",
    "B = 1.0e-10\n",
    "C = 5e-30\n",
    "\n",
    "# выглядит жутко, конечно\n",
    "# NL1265\n",
    "names = [str(n)+'-NL1265-1' for n in (51, 5, 6, 9, 10, 12)]\n",
    "lengths = np.array([1020, 2040, 2040, 3020, 4060, 4060])*1e-4\n",
    "Ith_values = np.array([225, 234.4, 230, 302.5, 354.3, 353.2])*1e-3\n",
    "lds_NL1265 = list()\n",
    "alpha_i = 0.9\n",
    "Gamma = 0.83e-2\n",
    "eta_inj = 1.0\n",
    "for i in range(len(names)):\n",
    "    ld = LD(name=names[i], length=lengths[i], Ith=Ith_values[i], alpha_i=alpha_i,\n",
    "           Gamma=Gamma, eta_inj=eta_inj, A=A, B=B, C=C)\n",
    "    lds_NL1265.append(ld) \n",
    "N_NL1265 = np.array([ld.Nth for ld in lds_NL1265])\n",
    "gain_NL1265 = np.array([ld.gain for ld in lds_NL1265])\n",
    "\n",
    "# NL1260\n",
    "names = [str(n)+'-NL1260-1' for n in (12, 14, 15, 17, 18)]\n",
    "lengths = np.array([980]*3+[4020]*2)*1e-4\n",
    "Ith_values = np.array([129, 119.5, 119.1, 292, 291.4])*1e-3\n",
    "lds_NL1260 = list()\n",
    "alpha_i = 1.6\n",
    "Gamma = 1.6e-2\n",
    "eta_inj = 0.97\n",
    "for i in range(len(names)):\n",
    "    ld = LD(name=names[i], length=lengths[i], Ith=Ith_values[i], alpha_i=alpha_i,\n",
    "           Gamma=Gamma, eta_inj=eta_inj, A=A, B=B, C=C)\n",
    "    lds_NL1260.append(ld)\n",
    "N_NL1260 = np.array([ld.Nth for ld in lds_NL1260])\n",
    "gain_NL1260 = np.array([ld.gain for ld in lds_NL1260])\n",
    "\n",
    "# NL1293\n",
    "names = [str(n)+'-NL1293-1' for n in (1, 6, 9, 12)]\n",
    "lengths = np.array([990, 2090, 3060, 4070])*1e-4\n",
    "Ith_values = np.array([200, 226, 277, 333])*1e-3\n",
    "lds_NL1293 = list()\n",
    "alpha_i = 0.9\n",
    "Gamma = 0.83e-2\n",
    "eta_inj = 0.93\n",
    "for i in range(len(names)):\n",
    "    ld = LD(name=names[i], length=lengths[i], Ith=Ith_values[i], alpha_i=alpha_i,\n",
    "           Gamma=Gamma, eta_inj=eta_inj, A=A, B=B, C=C)\n",
    "    lds_NL1293.append(ld)\n",
    "N_NL1293 = np.array([ld.Nth for ld in lds_NL1293])\n",
    "gain_NL1293 = np.array([ld.gain for ld in lds_NL1293])\n",
    "\n",
    "# NL1297\n",
    "names = [str(n)+'-NL1297-1' for n in (13, 5, 6, 15, 16, 11, 17)]\n",
    "lengths = np.array([1020, 1950, 1950, 3060, 3060, 4070, 4070])*1e-4\n",
    "Ith_values = np.array([90, 128, 130, 193, 192, 230, 232])*1e-3\n",
    "lds_NL1297 = list()\n",
    "alpha_i = 1.76\n",
    "Gamma = 2.1e-2\n",
    "eta_inj = 1.0\n",
    "for i in range(len(names)):\n",
    "    ld = LD(name=names[i], length=lengths[i], Ith=Ith_values[i], alpha_i=alpha_i,\n",
    "           Gamma=Gamma, eta_inj=eta_inj, A=A, B=B, C=C)\n",
    "    lds_NL1297.append(ld)\n",
    "N_NL1297 = np.array([ld.Nth for ld in lds_NL1297])\n",
    "gain_NL1297 = np.array([ld.gain for ld in lds_NL1297])\n",
    "\n",
    "N_all = np.concatenate([N_NL1260, N_NL1265, N_NL1293, N_NL1297])\n",
    "g_all = np.concatenate([gain_NL1260, gain_NL1265, gain_NL1293, gain_NL1297])\n",
    "\n",
    "def gain_log(n, g_0=2000, N_tr=1e18):\n",
    "    return g_0*np.log(n/N_tr)\n",
    "\n",
    "[g_0, N_tr], err = optimize.curve_fit(f=gain_log, xdata=N_all, ydata=g_all, p0=[2000, 1e18])\n",
    "\n",
    "plt.close('all')\n",
    "fig = plt.figure()\n",
    "ax = fig.gca()\n",
    "\n",
    "ax.plot(N_NL1260 * 1e-18, gain_NL1260, 'ro', label='NL1260')\n",
    "ax.plot(N_NL1265 * 1e-18, gain_NL1265, 'bo', label='NL1265')\n",
    "ax.plot(N_NL1293 * 1e-18, gain_NL1293, 'go', label='NL1293')\n",
    "ax.plot(N_NL1297 * 1e-18, gain_NL1297, 'mo', label='NL1297')\n",
    "\n",
    "x1, x2 = ax.get_xlim()\n",
    "x_gain = np.linspace(x1, x2)\n",
    "y_gain = gain_log(x_gain * 1e18, g_0, N_tr)\n",
    "ax.plot(x_gain, y_gain, 'k--', label='fit')\n",
    "ax.set_xlim((x1, x2))\n",
    "ax.set_xlabel('$n$, cm$^{-3}$')\n",
    "ax.set_ylabel('$g$, cm$^{-1}$')\n",
    "\n",
    "ax.legend()\n",
    "ax.set_title('$g_0$ = '+str(np.round(g_0, 0))+', $N_{tr}$ = '+str(np.round(N_tr*1e-18, 2)*1e18))"
   ]
  },
  {
   "cell_type": "code",
   "execution_count": null,
   "metadata": {},
   "outputs": [],
   "source": []
  }
 ],
 "metadata": {
  "kernelspec": {
   "display_name": "Python 3",
   "language": "python",
   "name": "python3"
  },
  "language_info": {
   "codemirror_mode": {
    "name": "ipython",
    "version": 3
   },
   "file_extension": ".py",
   "mimetype": "text/x-python",
   "name": "python",
   "nbconvert_exporter": "python",
   "pygments_lexer": "ipython3",
   "version": "3.9.5"
  }
 },
 "nbformat": 4,
 "nbformat_minor": 4
}
